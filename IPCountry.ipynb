{
  "nbformat": 4,
  "nbformat_minor": 0,
  "metadata": {
    "colab": {
      "provenance": [],
      "authorship_tag": "ABX9TyMg2MO41XD5gc3AfZk8yAf0",
      "include_colab_link": true
    },
    "kernelspec": {
      "name": "python3",
      "display_name": "Python 3"
    },
    "language_info": {
      "name": "python"
    }
  },
  "cells": [
    {
      "cell_type": "markdown",
      "metadata": {
        "id": "view-in-github",
        "colab_type": "text"
      },
      "source": [
        "<a href=\"https://colab.research.google.com/github/jzollar/de-opa-1/blob/main/IPCountry.ipynb\" target=\"_parent\"><img src=\"https://colab.research.google.com/assets/colab-badge.svg\" alt=\"Open In Colab\"/></a>"
      ]
    },
    {
      "cell_type": "code",
      "execution_count": 2,
      "metadata": {
        "colab": {
          "base_uri": "https://localhost:8080/"
        },
        "id": "Iw6C5tXyMDgD",
        "outputId": "639a1f9c-85d6-4d54-c8b7-682b06c2d37e"
      },
      "outputs": [
        {
          "output_type": "stream",
          "name": "stdout",
          "text": [
            "us\n"
          ]
        }
      ],
      "source": [
        "import requests\n",
        "\n",
        "def get_public_ip():\n",
        "    try:\n",
        "        response = requests.get(\"https://api64.ipify.org?format=json\")\n",
        "        data = response.json()\n",
        "        ip_address = data.get(\"ip\")\n",
        "        return ip_address\n",
        "    except Exception as e:\n",
        "        print(f\"Error fetching public IP: {e}\")\n",
        "        return None\n",
        "\n",
        "def get_country_by_ip(ip_address):\n",
        "    try:\n",
        "        response = requests.get(f\"http://ipinfo.io/{ip_address}/json\")\n",
        "        data = response.json()\n",
        "        country = data.get(\"country\")\n",
        "        return country\n",
        "    except Exception as e:\n",
        "        print(f\"Error fetching data: {e}\")\n",
        "        return None\n",
        "\n",
        "\n",
        "public_ip = get_public_ip()\n",
        "\n",
        "if public_ip:\n",
        "    country = get_country_by_ip(public_ip)\n",
        "else:\n",
        "    print(\"Unable to fetch public IP address.\")\n",
        "\n",
        "if country == 'US':\n",
        "  tld_con = 'us'\n",
        "else:\n",
        "  tld_con = 'com'\n",
        "\n"
      ]
    }
  ]
}